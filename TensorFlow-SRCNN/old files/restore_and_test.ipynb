{
 "cells": [
  {
   "cell_type": "code",
   "execution_count": 15,
   "metadata": {},
   "outputs": [
    {
     "name": "stdout",
     "output_type": "stream",
     "text": [
      "INFO:tensorflow:Restoring parameters from /Users/wanyiellenzheng/Downloads/TensorFlow-SRCNN-master/checkpoint/srcnn_21/./SRCNN.model-20500\n"
     ]
    }
   ],
   "source": [
    "import tensorflow as tf\n",
    "import os\n",
    "path = '/Users/wanyiellenzheng/Downloads/TensorFlow-SRCNN-master/checkpoint/srcnn_21/'\n",
    "os.chdir(path)\n",
    "\n",
    "with tf.Session() as sess:\n",
    "    new_saver = tf.train.import_meta_graph(os.path.join(os.getcwd(), 'SRCNN.model-20500.meta'))\n",
    "    new_saver.restore(sess, tf.train.latest_checkpoint(os.path.join(os.getcwd(),'./')))\n",
    "    # print(sess.run('w1:0'))\n",
    "##Model has been restored. Above statement will print the saved value of w1."
   ]
  },
  {
   "cell_type": "code",
   "execution_count": 19,
   "metadata": {},
   "outputs": [],
   "source": [
    "import tensorflow as tf\n",
    "\n",
    "# Let's load a previously saved meta graph in the default graph\n",
    "# This function returns a Saver\n",
    "saver = tf.train.import_meta_graph('SRCNN.model-20500.meta')\n",
    "\n",
    "# We can now access the default graph where all our metadata has been loaded\n",
    "graph = tf.get_default_graph()\n",
    "\n",
    "# Finally we can retrieve tensors, operations, collections, etc.\n",
    "global_step_tensor_w1 = graph.get_tensor_by_name('w1:0')\n",
    "global_step_tensor_w2 = graph.get_tensor_by_name('w2:0')\n",
    "global_step_tensor_w3 = graph.get_tensor_by_name('w3:0')\n",
    "global_step_tensor_b1 = graph.get_tensor_by_name('b1:0')\n",
    "global_step_tensor_b2 = graph.get_tensor_by_name('b2:0')\n",
    "global_step_tensor_b3 = graph.get_tensor_by_name('b3:0')\n",
    "# train_op = graph.get_operation_by_name('SRCNN.model')\n",
    "# hyperparameters = tf.get_collection('hyperparameters')"
   ]
  },
  {
   "cell_type": "code",
   "execution_count": 49,
   "metadata": {},
   "outputs": [
    {
     "data": {
      "text/plain": [
       "'/Users/wanyiellenzheng/Downloads/TensorFlow-SRCNN-master'"
      ]
     },
     "execution_count": 49,
     "metadata": {},
     "output_type": "execute_result"
    }
   ],
   "source": [
    "# 暂时不用跑这个chunck\n",
    "\n",
    "import tensorflow as tf\n",
    "\n",
    "#Prepare to feed input, i.e. feed_dict and placeholders\n",
    "w1 = tf.placeholder(\"float\", name=\"w1\")\n",
    "w2 = tf.placeholder(\"float\", name=\"w2\")\n",
    "w3 = tf.placeholder(\"float\", name=\"w3\")\n",
    "\n",
    "b1= tf.Variable(2.0,name=\"bias1\")\n",
    "b2= tf.Variable(2.0,name=\"bias2\")\n",
    "b3= tf.Variable(2.0,name=\"bias3\")\n",
    "\n",
    "feed_dict ={w1:3, w2:4, w3:5}\n",
    " \n",
    "#Define a test operation that we will restore\n",
    "w4 = tf.add(w1,w2,w3)\n",
    "b4 = tf.add(b1,b2,b3)\n",
    "w5 = tf.multiply(w4,b4,name=\"op_to_restore\")\n",
    "sess = tf.Session()\n",
    "sess.run(tf.global_variables_initializer())\n",
    " \n",
    "#Create a saver object which will save all the variables\n",
    "saver = tf.train.Saver()\n",
    " \n",
    "#Run the operation by feeding input\n",
    "print(sess.run(w4,feed_dict))\n",
    "#Prints 24 which is sum of (w1+w2)*b1 \n",
    " \n",
    "#Now, save the graph\n",
    "saver.save(sess, 'my_test_model',global_step=1000)\n",
    "\n",
    "\n",
    "# loss fn\n",
    "import cv2\n",
    "\n",
    "img_test = cv2.resize(img,None,fx = 2 ,fy = 2, interpolation = cv2.INTER_CUBIC)\n",
    "\n",
    "self.loss = tf.reduce_mean(tf.square(self.labels - self.pred))"
   ]
  }
 ],
 "metadata": {
  "kernelspec": {
   "display_name": "Python 3",
   "language": "python",
   "name": "python3"
  },
  "language_info": {
   "codemirror_mode": {
    "name": "ipython",
    "version": 3
   },
   "file_extension": ".py",
   "mimetype": "text/x-python",
   "name": "python",
   "nbconvert_exporter": "python",
   "pygments_lexer": "ipython3",
   "version": "3.6.4"
  }
 },
 "nbformat": 4,
 "nbformat_minor": 2
}
