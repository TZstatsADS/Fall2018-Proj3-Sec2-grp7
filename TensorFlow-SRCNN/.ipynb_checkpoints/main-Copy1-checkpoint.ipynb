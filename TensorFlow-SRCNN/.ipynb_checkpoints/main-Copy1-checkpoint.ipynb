{
 "cells": [
  {
   "cell_type": "code",
   "execution_count": null,
   "metadata": {},
   "outputs": [
    {
     "name": "stdout",
     "output_type": "stream",
     "text": [
      "/Users/yaoqi/Google Drive/GitHub/TensorFlow-SRCNN2\n"
     ]
    }
   ],
   "source": [
    "import os\n",
    "import tensorflow as tf\n",
    "from model import SRCNN\n",
    "print(os.getcwd())"
   ]
  },
  {
   "cell_type": "code",
   "execution_count": null,
   "metadata": {},
   "outputs": [
    {
     "name": "stdout",
     "output_type": "stream",
     "text": [
      "***\n",
      "['/Users/yaoqi/Google Drive/GitHub/TensorFlow-SRCNN2/Train/tt26.bmp', '/Users/yaoqi/Google Drive/GitHub/TensorFlow-SRCNN2/Train/t53.bmp', '/Users/yaoqi/Google Drive/GitHub/TensorFlow-SRCNN2/Train/t47.bmp', '/Users/yaoqi/Google Drive/GitHub/TensorFlow-SRCNN2/Train/t46.bmp', '/Users/yaoqi/Google Drive/GitHub/TensorFlow-SRCNN2/Train/t52.bmp', '/Users/yaoqi/Google Drive/GitHub/TensorFlow-SRCNN2/Train/tt27.bmp', '/Users/yaoqi/Google Drive/GitHub/TensorFlow-SRCNN2/Train/tt19.bmp', '/Users/yaoqi/Google Drive/GitHub/TensorFlow-SRCNN2/Train/tt25.bmp', '/Users/yaoqi/Google Drive/GitHub/TensorFlow-SRCNN2/Train/t44.bmp', '/Users/yaoqi/Google Drive/GitHub/TensorFlow-SRCNN2/Train/t50.bmp', '/Users/yaoqi/Google Drive/GitHub/TensorFlow-SRCNN2/Train/t51.bmp', '/Users/yaoqi/Google Drive/GitHub/TensorFlow-SRCNN2/Train/t45.bmp', '/Users/yaoqi/Google Drive/GitHub/TensorFlow-SRCNN2/Train/tt24.bmp', '/Users/yaoqi/Google Drive/GitHub/TensorFlow-SRCNN2/Train/tt18.bmp', '/Users/yaoqi/Google Drive/GitHub/TensorFlow-SRCNN2/Train/tt20.bmp', '/Users/yaoqi/Google Drive/GitHub/TensorFlow-SRCNN2/Train/t55.bmp', '/Users/yaoqi/Google Drive/GitHub/TensorFlow-SRCNN2/Train/t54.bmp', '/Users/yaoqi/Google Drive/GitHub/TensorFlow-SRCNN2/Train/t40.bmp', '/Users/yaoqi/Google Drive/GitHub/TensorFlow-SRCNN2/Train/tt21.bmp', '/Users/yaoqi/Google Drive/GitHub/TensorFlow-SRCNN2/Train/tt23.bmp', '/Users/yaoqi/Google Drive/GitHub/TensorFlow-SRCNN2/Train/t56.bmp', '/Users/yaoqi/Google Drive/GitHub/TensorFlow-SRCNN2/Train/t42.bmp', '/Users/yaoqi/Google Drive/GitHub/TensorFlow-SRCNN2/Train/tt8.bmp', '/Users/yaoqi/Google Drive/GitHub/TensorFlow-SRCNN2/Train/tt9.bmp', '/Users/yaoqi/Google Drive/GitHub/TensorFlow-SRCNN2/Train/t43.bmp', '/Users/yaoqi/Google Drive/GitHub/TensorFlow-SRCNN2/Train/t57.bmp', '/Users/yaoqi/Google Drive/GitHub/TensorFlow-SRCNN2/Train/tt22.bmp', '/Users/yaoqi/Google Drive/GitHub/TensorFlow-SRCNN2/Train/t18.bmp', '/Users/yaoqi/Google Drive/GitHub/TensorFlow-SRCNN2/Train/t30.bmp', '/Users/yaoqi/Google Drive/GitHub/TensorFlow-SRCNN2/Train/t24.bmp', '/Users/yaoqi/Google Drive/GitHub/TensorFlow-SRCNN2/Train/t25.bmp', '/Users/yaoqi/Google Drive/GitHub/TensorFlow-SRCNN2/Train/t31.bmp', '/Users/yaoqi/Google Drive/GitHub/TensorFlow-SRCNN2/Train/t19.bmp', '/Users/yaoqi/Google Drive/GitHub/TensorFlow-SRCNN2/Train/t27.bmp', '/Users/yaoqi/Google Drive/GitHub/TensorFlow-SRCNN2/Train/t33.bmp', '/Users/yaoqi/Google Drive/GitHub/TensorFlow-SRCNN2/Train/t32.bmp', '/Users/yaoqi/Google Drive/GitHub/TensorFlow-SRCNN2/Train/t26.bmp', '/Users/yaoqi/Google Drive/GitHub/TensorFlow-SRCNN2/Train/t9.bmp', '/Users/yaoqi/Google Drive/GitHub/TensorFlow-SRCNN2/Train/t22.bmp', '/Users/yaoqi/Google Drive/GitHub/TensorFlow-SRCNN2/Train/t36.bmp', '/Users/yaoqi/Google Drive/GitHub/TensorFlow-SRCNN2/Train/t37.bmp', '/Users/yaoqi/Google Drive/GitHub/TensorFlow-SRCNN2/Train/t23.bmp', '/Users/yaoqi/Google Drive/GitHub/TensorFlow-SRCNN2/Train/t8.bmp', '/Users/yaoqi/Google Drive/GitHub/TensorFlow-SRCNN2/Train/t35.bmp', '/Users/yaoqi/Google Drive/GitHub/TensorFlow-SRCNN2/Train/t21.bmp', '/Users/yaoqi/Google Drive/GitHub/TensorFlow-SRCNN2/Train/t20.bmp', '/Users/yaoqi/Google Drive/GitHub/TensorFlow-SRCNN2/Train/t34.bmp', '/Users/yaoqi/Google Drive/GitHub/TensorFlow-SRCNN2/Train/t6.bmp', '/Users/yaoqi/Google Drive/GitHub/TensorFlow-SRCNN2/Train/t39.bmp', '/Users/yaoqi/Google Drive/GitHub/TensorFlow-SRCNN2/Train/t11.bmp', '/Users/yaoqi/Google Drive/GitHub/TensorFlow-SRCNN2/Train/t10.bmp', '/Users/yaoqi/Google Drive/GitHub/TensorFlow-SRCNN2/Train/t38.bmp', '/Users/yaoqi/Google Drive/GitHub/TensorFlow-SRCNN2/Train/t7.bmp', '/Users/yaoqi/Google Drive/GitHub/TensorFlow-SRCNN2/Train/t5.bmp', '/Users/yaoqi/Google Drive/GitHub/TensorFlow-SRCNN2/Train/t12.bmp', '/Users/yaoqi/Google Drive/GitHub/TensorFlow-SRCNN2/Train/t13.bmp', '/Users/yaoqi/Google Drive/GitHub/TensorFlow-SRCNN2/Train/t4.bmp', '/Users/yaoqi/Google Drive/GitHub/TensorFlow-SRCNN2/Train/t17.bmp', '/Users/yaoqi/Google Drive/GitHub/TensorFlow-SRCNN2/Train/t16.bmp', '/Users/yaoqi/Google Drive/GitHub/TensorFlow-SRCNN2/Train/t1.bmp', '/Users/yaoqi/Google Drive/GitHub/TensorFlow-SRCNN2/Train/t3.bmp', '/Users/yaoqi/Google Drive/GitHub/TensorFlow-SRCNN2/Train/t14.bmp', '/Users/yaoqi/Google Drive/GitHub/TensorFlow-SRCNN2/Train/t28.bmp', '/Users/yaoqi/Google Drive/GitHub/TensorFlow-SRCNN2/Train/t29.bmp', '/Users/yaoqi/Google Drive/GitHub/TensorFlow-SRCNN2/Train/t15.bmp', '/Users/yaoqi/Google Drive/GitHub/TensorFlow-SRCNN2/Train/t2.bmp', '/Users/yaoqi/Google Drive/GitHub/TensorFlow-SRCNN2/Train/tt13.bmp', '/Users/yaoqi/Google Drive/GitHub/TensorFlow-SRCNN2/Train/t66.bmp', '/Users/yaoqi/Google Drive/GitHub/TensorFlow-SRCNN2/Train/tt4.bmp', '/Users/yaoqi/Google Drive/GitHub/TensorFlow-SRCNN2/Train/tt5.bmp', '/Users/yaoqi/Google Drive/GitHub/TensorFlow-SRCNN2/Train/tt12.bmp', '/Users/yaoqi/Google Drive/GitHub/TensorFlow-SRCNN2/Train/tt10.bmp', '/Users/yaoqi/Google Drive/GitHub/TensorFlow-SRCNN2/Train/t59.bmp', '/Users/yaoqi/Google Drive/GitHub/TensorFlow-SRCNN2/Train/t65.bmp', '/Users/yaoqi/Google Drive/GitHub/TensorFlow-SRCNN2/Train/tt7.bmp', '/Users/yaoqi/Google Drive/GitHub/TensorFlow-SRCNN2/Train/tt6.bmp', '/Users/yaoqi/Google Drive/GitHub/TensorFlow-SRCNN2/Train/t64.bmp', '/Users/yaoqi/Google Drive/GitHub/TensorFlow-SRCNN2/Train/t58.bmp', '/Users/yaoqi/Google Drive/GitHub/TensorFlow-SRCNN2/Train/tt15.bmp', '/Users/yaoqi/Google Drive/GitHub/TensorFlow-SRCNN2/Train/t60.bmp', '/Users/yaoqi/Google Drive/GitHub/TensorFlow-SRCNN2/Train/t48.bmp', '/Users/yaoqi/Google Drive/GitHub/TensorFlow-SRCNN2/Train/tt2.bmp', '/Users/yaoqi/Google Drive/GitHub/TensorFlow-SRCNN2/Train/tt3.bmp', '/Users/yaoqi/Google Drive/GitHub/TensorFlow-SRCNN2/Train/t49.bmp', '/Users/yaoqi/Google Drive/GitHub/TensorFlow-SRCNN2/Train/t61.bmp', '/Users/yaoqi/Google Drive/GitHub/TensorFlow-SRCNN2/Train/tt14.bmp', '/Users/yaoqi/Google Drive/GitHub/TensorFlow-SRCNN2/Train/tt16.bmp', '/Users/yaoqi/Google Drive/GitHub/TensorFlow-SRCNN2/Train/t63.bmp', '/Users/yaoqi/Google Drive/GitHub/TensorFlow-SRCNN2/Train/tt1.bmp', '/Users/yaoqi/Google Drive/GitHub/TensorFlow-SRCNN2/Train/t62.bmp', '/Users/yaoqi/Google Drive/GitHub/TensorFlow-SRCNN2/Train/tt17.bmp']\n",
      "\n",
      "Reading Checkpoints.....\n",
      "\n",
      "\n",
      "INFO:tensorflow:Restoring parameters from /Users/yaoqi/Google Drive/GitHub/TensorFlow-SRCNN2/checkpoint/srcnn_21/SRCNN.model-2000\n",
      "\n",
      " Checkpoint Loading Success! checkpoint/srcnn_21/SRCNN.model-2000\n",
      "\n",
      "\n",
      "Now Start Training...\n",
      "Epoch: [ 1], step: [10], time: [3.0311], loss: [0.05961324]\n",
      "Epoch: [ 1], step: [20], time: [5.7457], loss: [0.01016729]\n",
      "Epoch: [ 1], step: [30], time: [8.4384], loss: [0.01911573]\n",
      "Epoch: [ 1], step: [40], time: [11.1910], loss: [0.04197692]\n",
      "Epoch: [ 1], step: [50], time: [13.8896], loss: [0.02897621]\n",
      "Epoch: [ 1], step: [60], time: [16.9389], loss: [0.01342161]\n",
      "Epoch: [ 1], step: [70], time: [19.6388], loss: [0.06137735]\n",
      "['/Users/yaoqi/Desktop/Mojave.jpg']\n",
      "\n",
      "Reading Checkpoints.....\n",
      "\n",
      "\n",
      "INFO:tensorflow:Restoring parameters from /Users/yaoqi/Google Drive/GitHub/TensorFlow-SRCNN2/checkpoint/srcnn_21/SRCNN.model-2000\n",
      "\n",
      " Checkpoint Loading Success! checkpoint/srcnn_21/SRCNN.model-2000\n",
      "\n",
      "\n",
      "Now Start Testing...\n"
     ]
    }
   ],
   "source": [
    "### main.py ###\n",
    "\n",
    "class this_config():\n",
    "    def __init__(self):\n",
    "        self.epoch = 1\n",
    "        self.image_size = 33\n",
    "        self.label_size = 21\n",
    "        self.c_dim = 3\n",
    "        self.is_train = True\n",
    "        self.scale = 3\n",
    "        self.stride = 21\n",
    "        self.checkpoint_dir = 'checkpoint'\n",
    "        self.learning_rate = 1e-4\n",
    "        self.batch_size = 128\n",
    "        self.result_dir = os.getcwd() + '/sample'\n",
    "        self.test_img = '/Users/yaoqi/Desktop/Mojave.jpg'\n",
    "#         self.test_img = '/Users/yaoqi/Desktop/Yaoqi.jpg'\n",
    "arg = this_config()\n",
    "\n",
    "print('***')\n",
    "\n",
    "# def main(_): #?\n",
    "with tf.Session() as sess:\n",
    "    FLAGS = arg\n",
    "    srcnn = SRCNN(sess,\n",
    "                  image_size = FLAGS.image_size,\n",
    "                  label_size = FLAGS.label_size,\n",
    "                  c_dim = FLAGS.c_dim)\n",
    "\n",
    "    srcnn.train(FLAGS)\n",
    "    FLAGS.is_train = False\n",
    "    srcnn.train(FLAGS)\n",
    "\n",
    "# flags = tf.app.flags\n",
    "# FLAGS = flags.FLAGS\n",
    "# flags.DEFINE_integer(\"epoch\", 1, \"Number of epoch\")\n",
    "# flags.DEFINE_integer(\"image_size\", 33, \"The size of image input\")\n",
    "# flags.DEFINE_integer(\"label_size\", 21, \"The size of image output\")\n",
    "# flags.DEFINE_integer(\"c_dim\", 3, \"The size of channel\")\n",
    "# flags.DEFINE_boolean(\"is_train\", True, \"if the train\")\n",
    "# flags.DEFINE_integer(\"scale\", 3, \"the size of scale factor for preprocessing input image\")\n",
    "# flags.DEFINE_integer(\"stride\", 21, \"the size of stride\")\n",
    "# flags.DEFINE_string(\"checkpoint_dir\", \"checkpoint\", \"Name of checkpoint directory\")\n",
    "# flags.DEFINE_float(\"learning_rate\", 1e-4 , \"The learning rate\")\n",
    "# flags.DEFINE_integer(\"batch_size\", 128, \"the size of batch\")\n",
    "# flags.DEFINE_string(\"result_dir\", \"result\", \"Name of result directory\")\n",
    "# flags.DEFINE_string(\"test_img\", \"\", \"test_img\")\n",
    "\n",
    "# if __name__=='__main__':\n",
    "#     tf.app.run() # parse the command argument , the call the main function"
   ]
  },
  {
   "cell_type": "code",
   "execution_count": null,
   "metadata": {},
   "outputs": [],
   "source": [
    "# import os\n",
    "os.getcwd() + '/sample'"
   ]
  },
  {
   "cell_type": "code",
   "execution_count": null,
   "metadata": {
    "collapsed": true
   },
   "outputs": [],
   "source": [
    "# os.getcwd()"
   ]
  }
 ],
 "metadata": {
  "kernelspec": {
   "display_name": "Python 3",
   "language": "python",
   "name": "python3"
  },
  "language_info": {
   "codemirror_mode": {
    "name": "ipython",
    "version": 3
   },
   "file_extension": ".py",
   "mimetype": "text/x-python",
   "name": "python",
   "nbconvert_exporter": "python",
   "pygments_lexer": "ipython3",
   "version": "3.6.3"
  }
 },
 "nbformat": 4,
 "nbformat_minor": 2
}
